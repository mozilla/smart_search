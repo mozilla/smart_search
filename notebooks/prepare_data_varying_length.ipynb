{
 "cells": [
  {
   "cell_type": "markdown",
   "id": "1cf176a0-f64e-4071-98ec-c431d66a6d70",
   "metadata": {},
   "source": [
    "purpose of this notebook is to hel pprepare data of varying lengths\n",
    "- shorter length titles\n",
    "- longer length titles"
   ]
  },
  {
   "cell_type": "code",
   "execution_count": null,
   "id": "7420deab-9f55-4fdc-a5a2-30b62b611095",
   "metadata": {},
   "outputs": [],
   "source": [
    "import pandas as pd\n",
    "import numpy as np\n",
    "import pickle\n",
    "import sqlite3\n",
    "import os\n",
    "from tqdm import tqdm\n",
    "from urllib.parse import urlparse\n",
    "import random\n",
    "import hashlib\n",
    "import time"
   ]
  },
  {
   "cell_type": "code",
   "execution_count": null,
   "id": "0bdd710f-3dc0-4440-9367-12ea59ce69c9",
   "metadata": {},
   "outputs": [],
   "source": [
    "from sklearn.metrics.pairwise import cosine_similarity\n",
    "from model2vec import StaticModel"
   ]
  },
  {
   "cell_type": "code",
   "execution_count": null,
   "id": "141bcb44-4266-4f49-9235-61df85d0fa6b",
   "metadata": {},
   "outputs": [],
   "source": [
    "EN_MSMARCO_DATA_PATH = \"/Users/cgopal/Downloads/web_data/msmarco_english.csv\""
   ]
  },
  {
   "cell_type": "code",
   "execution_count": null,
   "id": "f0bee28a-a2bf-46d0-89f5-a4d40acb52ff",
   "metadata": {},
   "outputs": [],
   "source": [
    "english_data = pd.read_csv(EN_MSMARCO_DATA_PATH, header=None)\n",
    "english_data.columns = ['docid', 'url', 'title', 'body']\n",
    "english_data['lang'] = 'en'\n",
    "english_data['topic'] = ''\n",
    "english_data = english_data.loc[~english_data['title'].isna()].reset_index(drop=True)\n",
    "english_data['description'] = english_data['body'].fillna('').apply(lambda body: body[:300])\n",
    "english_data = english_data.loc[english_data['title'].apply(len) <= 100].reset_index(drop=True)\n",
    "print(len(english_data))\n",
    "english_data"
   ]
  },
  {
   "cell_type": "code",
   "execution_count": null,
   "id": "19c74bc1-87bd-4d91-a5a5-94bb533bff74",
   "metadata": {},
   "outputs": [],
   "source": [
    "static_model = StaticModel.from_pretrained(\"minishlab/potion-retrieval-32M\")"
   ]
  },
  {
   "cell_type": "code",
   "execution_count": null,
   "id": "a8e1e19b-f191-4e25-91c2-38005da022e0",
   "metadata": {},
   "outputs": [],
   "source": [
    "english_data['title'].apply(len).describe()"
   ]
  },
  {
   "cell_type": "code",
   "execution_count": null,
   "id": "4112b09f-9927-41da-8ec4-a110b2a5ef08",
   "metadata": {},
   "outputs": [],
   "source": [
    "english_data_short_titles = english_data.loc[english_data['title'].apply(len) < 30 ].reset_index(drop=True)\n",
    "english_data_short_titles['description'] = \"\"\n",
    "english_data_short_titles['text'] = english_data_short_titles['title']\n",
    "english_data_short_titles"
   ]
  },
  {
   "cell_type": "code",
   "execution_count": null,
   "id": "e637beea-eec3-4653-a82b-087eb39412a0",
   "metadata": {},
   "outputs": [],
   "source": [
    "english_data_long_titles = english_data.loc[english_data['title'].apply(len) >= 44 ].reset_index(drop=True)"
   ]
  },
  {
   "cell_type": "code",
   "execution_count": null,
   "id": "fc4516d5-ab88-4cae-aadd-41029af43c9a",
   "metadata": {},
   "outputs": [],
   "source": [
    "english_data_long_titles['text'] = (english_data_long_titles['title'].fillna(\"\") + \" \" + english_data_long_titles['description'].fillna(\"\")).str.strip()\n",
    "# (english_data_long_titles['title'] + \" \" + english_data_long_titles['description']).apply(len).describe()"
   ]
  },
  {
   "cell_type": "code",
   "execution_count": null,
   "id": "14a17500-41df-4902-a5e7-0e080331a8a7",
   "metadata": {},
   "outputs": [],
   "source": [
    "\n",
    "english_data_short_titles_embeddings = static_model.encode(english_data_short_titles['text'].values.tolist())\n",
    "english_data_short_titles_embeddings.shape"
   ]
  },
  {
   "cell_type": "code",
   "execution_count": null,
   "id": "a5b415b2-cf5d-4d9b-b51f-0474e448aa27",
   "metadata": {},
   "outputs": [],
   "source": [
    "\n",
    "english_data_long_titles_embeddings = static_model.encode(english_data_long_titles['text'].values.tolist())\n",
    "english_data_long_titles_embeddings.shape"
   ]
  },
  {
   "cell_type": "code",
   "execution_count": null,
   "id": "25c67ba1-427b-4d65-8edf-63d435bf1aa0",
   "metadata": {},
   "outputs": [],
   "source": [
    "short_queries = [\n",
    "    \"healthy rice\",\n",
    "    \"endodontist\",\n",
    "    \"arsenal\",\n",
    "    \"gavaskar border trophy\",\n",
    "    \"grand slam champion\",\n",
    "    \"capital gain\",\n",
    "    \"credit limit\",\n",
    "    \"annuity\",\n",
    "    \"physiology\",\n",
    "    \"myopia\",\n",
    "    \"amyloidosis\",\n",
    "    \"alopecia\",\n",
    "    \"dermatitis\",\n",
    "    \"coffee shop\",\n",
    "    \"ball drop\"\n",
    "]\n",
    "\n",
    "short_queries_embeddings = static_model.encode(short_queries)\n",
    "short_queries_embeddings.shape"
   ]
  },
  {
   "cell_type": "code",
   "execution_count": null,
   "id": "a73df161-1ca4-4e1e-ba46-359857dd3bc6",
   "metadata": {},
   "outputs": [],
   "source": [
    "long_queries = [\n",
    "    \"alternative medicine to manage ringing in my ear\",\n",
    "    \"solutions for noisy neighbors\",\n",
    "    \"how to train a cat to use the litter box\",\n",
    "    \"how to make your dog loss weight\",\n",
    "    \"what are the best foods for dogs\",\n",
    "    \"how to keep your kids safe online\",\n",
    "    \"some recommendations for vegan recipes for kids\",\n",
    "    \"best places to visit in new york in summer\",\n",
    "    \"how much does it cost to go to niagara falls\",\n",
    "    \"how to take screenshot on windows 11\",\n",
    "    \"what are some of the symptoms of high blood pressure\",\n",
    "    \"what are some treatment options for stroke\",\n",
    "    \"organic dog food for sensitive stomachs\",\n",
    "    \"best budget-friendly family vacation spots in California\",\n",
    "    \"what are some popular open source projects\",\n",
    "]\n",
    "\n",
    "long_queries_embeddings = static_model.encode(long_queries)\n",
    "long_queries_embeddings.shape"
   ]
  },
  {
   "cell_type": "code",
   "execution_count": null,
   "id": "4f52ef90-a5e7-4d47-ab91-0e41eff2dbe8",
   "metadata": {},
   "outputs": [],
   "source": [
    "# cosine_similarity(static_model.encode([\"healthy rice\"]), static_model.encode([\"Broadcast tower KT8\"]))"
   ]
  },
  {
   "cell_type": "code",
   "execution_count": null,
   "id": "2bcd5fdf-9859-484f-97ed-ff7c57189ca8",
   "metadata": {},
   "outputs": [],
   "source": [
    "# cosine_similarity(static_model.encode([\"healthy rice\"]), english_data_short_titles_embeddings).argmax()"
   ]
  },
  {
   "cell_type": "code",
   "execution_count": null,
   "id": "07b490e7-2295-48ea-92f2-4e1a2dbfce92",
   "metadata": {},
   "outputs": [],
   "source": [
    "## select from english_data_short_titles\n",
    "## short Q - short D\n",
    "\n",
    "\n",
    "def compute_cosine_similarities(query_embeddings, docs_embeddings):\n",
    "    return cosine_similarity(query_embeddings, docs_embeddings)\n",
    "\n",
    "def get_positive_and_negative_examples(sim_scores,\n",
    "                                       docs_df,\n",
    "                                       top_k = 2,\n",
    "                                       text_col='text',\n",
    "                                       neg_size=500\n",
    "                                      ):\n",
    "    \n",
    "    top_items = np.argsort(-sim_scores, axis=1)[:, :top_k]  # shape (n_queries, 2)\n",
    "    \n",
    "    # Combine top-2 indices from each query to get positive samples\n",
    "    top_items_combined = top_items.flatten()\n",
    "    # print(f\"top_items_combined.shape = {top_items_combined.shape}\")\n",
    "    docs = docs_df[text_col].values.tolist()\n",
    "    # print(f\"len(docs) = {len(docs)}\")\n",
    "    # print(f\"top_items_combined = {top_items_combined}\")\n",
    "    positive_examples = docs_df.iloc[top_items_combined]\n",
    "    print(f\"#positive examples: {len(positive_examples)}\")\n",
    "    \n",
    "    n_queries, n_docs = sim_scores.shape\n",
    "    \n",
    "    # Get all document indices\n",
    "    all_doc_indices = np.arange(n_docs)\n",
    "    \n",
    "    # For each query, exclude top-k indices and sample a \"hard negative\" or \"random negative\"\n",
    "    negative_indices = []\n",
    "    \n",
    "    for i in range(n_queries):\n",
    "        pos_indices = set(top_items[i])\n",
    "        neg_candidates = list(set(all_doc_indices) - pos_indices)\n",
    "        \n",
    "        # Choose 1 negative index per query randomly (or more, depending on use case)\n",
    "        neg_idx = np.random.choice(neg_candidates, size=neg_size, replace=False)\n",
    "        # print(neg_idx)\n",
    "        negative_indices.append(neg_idx)\n",
    "    \n",
    "    # Retrieve negative examples\n",
    "    flat_negative_indices = np.concatenate(negative_indices)\n",
    "    \n",
    "    # Now use iloc\n",
    "    negative_examples = docs_df.iloc[flat_negative_indices]\n",
    "    \n",
    "    print(f\"#negative_examples: {len(negative_examples)}\")\n",
    "    \n",
    "    return pd.concat([\n",
    "        positive_examples.reset_index(drop=True),\n",
    "        negative_examples.reset_index(drop=True)\n",
    "    ]).drop(text_col, axis=1)"
   ]
  },
  {
   "cell_type": "code",
   "execution_count": null,
   "id": "ae96514b-d15b-44ce-97fd-de4955f48bb3",
   "metadata": {},
   "outputs": [],
   "source": [
    "shortQ_shortD_sim = compute_cosine_similarities(query_embeddings=short_queries_embeddings, \n",
    "                                                docs_embeddings=english_data_short_titles_embeddings)\n",
    "\n",
    "\n",
    "shortQ_shortD_df = get_positive_and_negative_examples(sim_scores=shortQ_shortD_sim,\n",
    "                                                      docs_df=english_data_short_titles,\n",
    "                                                      top_k = 2,\n",
    "                                                      text_col='text',\n",
    "                                                      neg_size=500\n",
    "                                                      )"
   ]
  },
  {
   "cell_type": "code",
   "execution_count": null,
   "id": "7526714d-1644-419d-990e-6d2ad4d4868a",
   "metadata": {},
   "outputs": [],
   "source": [
    "shortQ_shortD_df"
   ]
  },
  {
   "cell_type": "code",
   "execution_count": null,
   "id": "d123c416-4a8f-4abc-9247-ca7d1cf137ac",
   "metadata": {},
   "outputs": [],
   "source": [
    "shortQ_longD_sim = compute_cosine_similarities(query_embeddings=short_queries_embeddings, \n",
    "                                                docs_embeddings=english_data_long_titles_embeddings)\n",
    "\n",
    "shortQ_longD_df = get_positive_and_negative_examples(sim_scores=shortQ_longD_sim,\n",
    "                                                     docs_df=english_data_long_titles,\n",
    "                                                     top_k = 2,\n",
    "                                                     text_col='text',\n",
    "                                                     neg_size=600\n",
    "                                                     )\n",
    "\n",
    "shortQ_longD_df"
   ]
  },
  {
   "cell_type": "code",
   "execution_count": null,
   "id": "ab2deec0-6644-43b8-a3fd-a7a26da94792",
   "metadata": {},
   "outputs": [],
   "source": [
    "## long Q - short D\n",
    "\n",
    "longQ_shortD_sim = compute_cosine_similarities(query_embeddings=long_queries_embeddings, \n",
    "                                               docs_embeddings=english_data_short_titles_embeddings)\n",
    "\n",
    "longQ_shortD_df = get_positive_and_negative_examples(sim_scores=longQ_shortD_sim,\n",
    "                                                     docs_df=english_data_short_titles,\n",
    "                                                     top_k = 2,\n",
    "                                                     text_col='text',\n",
    "                                                     neg_size=500\n",
    "                                                     )\n",
    "\n",
    "longQ_shortD_df"
   ]
  },
  {
   "cell_type": "code",
   "execution_count": null,
   "id": "3ded5149-faa9-4e8a-be60-54c614a3a0fa",
   "metadata": {},
   "outputs": [],
   "source": [
    "## long Q - long D\n",
    "\n",
    "longQ_longD_sim = compute_cosine_similarities(query_embeddings=long_queries_embeddings, \n",
    "                                               docs_embeddings=english_data_long_titles_embeddings)\n",
    "\n",
    "longQ_longD_df = get_positive_and_negative_examples(sim_scores=longQ_longD_sim,\n",
    "                                                     docs_df=english_data_long_titles,\n",
    "                                                     top_k = 2,\n",
    "                                                     text_col='text',\n",
    "                                                     neg_size=600\n",
    "                                                     )\n",
    "\n",
    "longQ_longD_df"
   ]
  },
  {
   "cell_type": "code",
   "execution_count": null,
   "id": "6769e675-1755-4d1f-8d47-96701ca11c24",
   "metadata": {},
   "outputs": [],
   "source": []
  },
  {
   "cell_type": "code",
   "execution_count": null,
   "id": "84c857c5-a59e-4897-a240-a92aaee18e0c",
   "metadata": {},
   "outputs": [],
   "source": [
    "def generate_url_hash(url):\n",
    "    hash_object = hashlib.md5(url.encode(\"utf-8\"))  \n",
    "    url_hash = int(hash_object.hexdigest(), 16) % (10 ** 14) \n",
    "    return url_hash\n",
    "\n",
    "\n",
    "def generate_last_visit_date(index):\n",
    "    base_time = int(time.time() * 1_000_000)  # Current time in microseconds\n",
    "    return base_time + index * 2_000  # Increment by 2000 microseconds (2ms) per row"
   ]
  },
  {
   "cell_type": "code",
   "execution_count": null,
   "id": "a320dbd9-280f-456c-9685-fa4d042453b1",
   "metadata": {},
   "outputs": [],
   "source": [
    "profiles = {'longQ_longD_df': longQ_longD_df,\n",
    "            'longQ_shortD_df': longQ_shortD_df,\n",
    "            'shortQ_shortD_df': shortQ_shortD_df,\n",
    "            'shortQ_longD_df': shortQ_longD_df\n",
    "           }\n",
    "\n",
    "profiles_generated = dict()\n",
    "for profile, df in profiles.items():\n",
    "    frecency = [random.randint(10,500) for _ in range(len(df))]\n",
    "    df['frecency'] = frecency\n",
    "    df['url_hash'] = df['url'].apply(generate_url_hash)\n",
    "    df[\"last_visit_date\"] = [generate_last_visit_date(i) for i in range(len(df))]\n",
    "    # profiles['profile'] = df\n",
    "    profiles_generated[profile] = df\n"
   ]
  },
  {
   "cell_type": "code",
   "execution_count": null,
   "id": "1ae5214c-1e7f-4805-84aa-2d4ed6395af5",
   "metadata": {},
   "outputs": [],
   "source": [
    "profiles.keys()"
   ]
  },
  {
   "cell_type": "code",
   "execution_count": null,
   "id": "6b5b5660-ec59-4ae5-92a3-684a90c982be",
   "metadata": {},
   "outputs": [],
   "source": [
    "profiles_generated['longQ_longD_df']"
   ]
  },
  {
   "cell_type": "code",
   "execution_count": null,
   "id": "fdf1497d-078c-47da-ad2b-44b1b6a03326",
   "metadata": {},
   "outputs": [],
   "source": []
  },
  {
   "cell_type": "code",
   "execution_count": null,
   "id": "1fcc3cdc-0cb3-4478-b528-c9903aae4809",
   "metadata": {},
   "outputs": [],
   "source": [
    "def prepare_synthetic_profile(profile_data):\n",
    "    print(\"original = \", len(profile_data))\n",
    "    # profile_data = profile_data.drop_duplicates(['url'], keep='first').reset_index(drop=True)\n",
    "    # profile_data = profile_data.loc[~profile_data['url'].isna()].reset_index(drop=True)\n",
    "    profile_data = profile_data.drop_duplicates(['url_hash']).reset_index(drop=True)\n",
    "    print(\"after cleaned up = \", len(profile_data))\n",
    "    profile_data['domain'] = profile_data['url'].apply(lambda x: urlparse(x).netloc.split(':')[0])\n",
    "    profile_data['combined_text'] = profile_data['title'] + \" \" +   profile_data['description'].fillna(\"\")\n",
    "    return profile_data\n",
    "\n",
    "def get_connection_to_places():\n",
    "    return sqlite3.connect(\"../data/places.sqlite\")\n",
    "\n",
    "def get_personal_history(row_limit, sql_conn):\n",
    "    input_data = pd.read_sql(f\"\"\"\n",
    "        SELECT *\n",
    "        FROM moz_places p\n",
    "        WHERE p.title NOTNULL\n",
    "        AND url not like '%google.com/search?%'\n",
    "        ORDER BY frecency DESC\n",
    "        LIMIT {row_limit}; \n",
    "        \"\"\", sql_conn)\n",
    "    \n",
    "    # print(len(input_data))\n",
    "    return input_data\n",
    "\n",
    "\n",
    "def prepare_dummy_profile(input_data, samples_df):\n",
    "    input_data['url'] = samples_df['url'].values.tolist()\n",
    "    input_data['title'] = samples_df['title'].values.tolist()\n",
    "    input_data['url_hash'] = samples_df['url_hash'].values.tolist()\n",
    "    input_data['description'] = samples_df['description'].values.tolist()\n",
    "    ## Fill ~75% of description as null based on some eda\n",
    "    # input_data['description'] = samples_df['description'].apply(\n",
    "    #     lambda desc: None if np.random.choice([True, False], p=[0.75, 0.25]) else desc\n",
    "    # ).values.tolist()\n",
    "    input_data['rev_host'] = samples_df['domain'].apply(lambda host: host[::-1]).values.tolist()\n",
    "    input_data['preview_image_url'] = None\n",
    "    return input_data"
   ]
  },
  {
   "cell_type": "code",
   "execution_count": null,
   "id": "dcadc178-0290-4b80-b3df-1783b6465ee2",
   "metadata": {},
   "outputs": [],
   "source": [
    "\n",
    "def generate_dummy_profile(profile_data):\n",
    "    profile_data = prepare_synthetic_profile(profile_data)\n",
    "    row_limit = len(profile_data)\n",
    "    sql_conn = get_connection_to_places()\n",
    "    input_data = get_personal_history(row_limit, sql_conn)\n",
    "    \n",
    "    samples_df = profile_data.reset_index(drop=True)\n",
    "    # print(len(samples_df))\n",
    "    return prepare_dummy_profile(input_data, samples_df)"
   ]
  },
  {
   "cell_type": "code",
   "execution_count": null,
   "id": "cd9b6102-491d-48cb-9325-5db537e42730",
   "metadata": {},
   "outputs": [],
   "source": [
    "def prepare_sqlite_db(df, places_db_path):\n",
    "    # Connect to SQLite database\n",
    "    conn = sqlite3.connect(places_db_path)\n",
    "    \n",
    "    # Write DataFrame to SQLite database\n",
    "    df.to_sql(\"moz_places\", conn, if_exists=\"replace\", index=False)  # Modify table name as needed\n",
    "    \n",
    "    # Close connection\n",
    "    conn.close()"
   ]
  },
  {
   "cell_type": "code",
   "execution_count": null,
   "id": "af0e73b9-2892-4780-bd29-0ada5eddf76e",
   "metadata": {},
   "outputs": [],
   "source": [
    "os.makedirs(\"../data/profiles/test\", exist_ok=True)\n",
    "\n",
    "for profile, profile_data in profiles_generated.items():\n",
    "    profile_data_enriched = generate_dummy_profile(profile_data)\n",
    "    print(profile_data_enriched.columns)\n",
    "    profile_data_enriched.to_json(f\"../data/profiles/test/profile_{profile}.json\", orient=\"records\", indent=2)\n"
   ]
  },
  {
   "cell_type": "code",
   "execution_count": null,
   "id": "2c7c608c-b9c0-46b2-adbc-0e743aaa9e20",
   "metadata": {},
   "outputs": [],
   "source": [
    "!ls ../data/profiles/test/profile_*"
   ]
  },
  {
   "cell_type": "code",
   "execution_count": null,
   "id": "b1845d07-cac6-4dd3-894d-68992da08c61",
   "metadata": {},
   "outputs": [],
   "source": []
  }
 ],
 "metadata": {
  "kernelspec": {
   "display_name": "Python 3 (ipykernel)",
   "language": "python",
   "name": "python3"
  },
  "language_info": {
   "codemirror_mode": {
    "name": "ipython",
    "version": 3
   },
   "file_extension": ".py",
   "mimetype": "text/x-python",
   "name": "python",
   "nbconvert_exporter": "python",
   "pygments_lexer": "ipython3",
   "version": "3.11.13"
  }
 },
 "nbformat": 4,
 "nbformat_minor": 5
}
