{
 "cells": [
  {
   "cell_type": "markdown",
   "id": "89846c54-b858-41e9-a9a3-ef0e940cc473",
   "metadata": {},
   "source": [
    "purpose of this notebook is to evaluate on the static embedding model `minishlab/potion-retrieval-32M`"
   ]
  },
  {
   "cell_type": "code",
   "execution_count": 1,
   "id": "71515d50-a119-4de5-beb0-9adcf33a8178",
   "metadata": {},
   "outputs": [],
   "source": [
    "from model2vec import StaticModel\n",
    "from sentence_transformers import SentenceTransformer\n",
    "import pandas as pd\n",
    "from sklearn.metrics.pairwise import cosine_similarity\n",
    "import numpy as np"
   ]
  },
  {
   "cell_type": "code",
   "execution_count": 2,
   "id": "3e6ba458-6171-4d99-941a-42b45cd8223f",
   "metadata": {},
   "outputs": [],
   "source": [
    "persona_name = \"creative_hobyist\"\n",
    "# persona_name = \"chidam\"\n",
    "\n",
    "# MODEL_NAME = \"Xenova/all-MiniLM-L6-v2\" \n",
    "MODEL_NAME = \"minishlab/potion-retrieval-32M\"\n",
    "\n",
    "GOLDEN_QUERY_COLS = [\"search_query\",\"url\"]\n",
    "PROFILE_COLS = [\"url\", \"title\", \"description\", \"frecency\", \"last_visit_date\"] #\"url_hash\"\n",
    "\n",
    "PROFILE_FILENAMES = {\n",
    "    \"creative_hobyist\": {\n",
    "        \"golden_query_data\" : \"../data/creative_hobyist_profile_golden_queries.csv\",\n",
    "        \"profile_data\": \"../data/profiles/creative_hobbyist.csv\"\n",
    "    },\n",
    "    \"chidam\": {\n",
    "        \"golden_query_data\" : \"../data/chidam_golden_query.csv\",\n",
    "        \"profile_data\": \"../data/history_output_file.csv\"\n",
    "    }\n",
    "}\n",
    "# PROFILE_FILENAME = \"../data/chidam_golden_query.csv\"\n"
   ]
  },
  {
   "cell_type": "code",
   "execution_count": 3,
   "id": "565ea46a-46cd-42f7-aaf3-14b0d07f2fdb",
   "metadata": {},
   "outputs": [],
   "source": [
    "def get_model(MODEL_NAME):\n",
    "    if MODEL_NAME == \"Xenova/all-MiniLM-L6-v2\":\n",
    "        return SentenceTransformer(\"all-MiniLM-L6-v2\")\n",
    "    elif MODEL_NAME == \"minishlab/potion-retrieval-32M\":\n",
    "        return StaticModel.from_pretrained(\"minishlab/potion-retrieval-32M\")\n",
    "\n",
    "def get_profile_filenames(persona_name):\n",
    "    if persona_name not in PROFILE_FILENAMES.keys():\n",
    "        return ValueError(f\"persona_name entered not in {list(PROFILE_FILENAMES.keys())}\")\n",
    "    golden_queries_df = pd.read_csv(PROFILE_FILENAMES[persona_name]['golden_query_data'])[GOLDEN_QUERY_COLS]\n",
    "    profile_df = pd.read_csv(PROFILE_FILENAMES[persona_name][\"profile_data\"])\n",
    "    #[PROFILE_COLS]\n",
    "    return golden_queries_df, profile_df"
   ]
  },
  {
   "cell_type": "code",
   "execution_count": 4,
   "id": "519a8368-3dcf-4615-a1e7-439a2325c78d",
   "metadata": {},
   "outputs": [],
   "source": [
    "model = get_model(MODEL_NAME)"
   ]
  },
  {
   "cell_type": "code",
   "execution_count": 5,
   "id": "d5c37ad8-9a12-461f-82bf-28ff9ce90070",
   "metadata": {},
   "outputs": [
    {
     "data": {
      "text/html": [
       "<div>\n",
       "<style scoped>\n",
       "    .dataframe tbody tr th:only-of-type {\n",
       "        vertical-align: middle;\n",
       "    }\n",
       "\n",
       "    .dataframe tbody tr th {\n",
       "        vertical-align: top;\n",
       "    }\n",
       "\n",
       "    .dataframe thead th {\n",
       "        text-align: right;\n",
       "    }\n",
       "</style>\n",
       "<table border=\"1\" class=\"dataframe\">\n",
       "  <thead>\n",
       "    <tr style=\"text-align: right;\">\n",
       "      <th></th>\n",
       "      <th>search_query</th>\n",
       "      <th>url</th>\n",
       "    </tr>\n",
       "  </thead>\n",
       "  <tbody>\n",
       "    <tr>\n",
       "      <th>0</th>\n",
       "      <td>Best mosquito repellent outdoor</td>\n",
       "      <td>http://www.wikihow.com/Get-Rid-of-Mosquitoes-i...</td>\n",
       "    </tr>\n",
       "    <tr>\n",
       "      <th>1</th>\n",
       "      <td>How to get rid of heat stains on wood</td>\n",
       "      <td>http://tipnut.com/diy-how-to-remove-white-heat...</td>\n",
       "    </tr>\n",
       "    <tr>\n",
       "      <th>2</th>\n",
       "      <td>Zucchini recipes</td>\n",
       "      <td>http://startcooking.com/how-to-zucchini</td>\n",
       "    </tr>\n",
       "    <tr>\n",
       "      <th>3</th>\n",
       "      <td>Planting grass</td>\n",
       "      <td>http://www.wikihow.com/Grow-Pampas-Grass</td>\n",
       "    </tr>\n",
       "    <tr>\n",
       "      <th>4</th>\n",
       "      <td>Hamstring remedies</td>\n",
       "      <td>http://www.runnersworld.com/for-beginners-only...</td>\n",
       "    </tr>\n",
       "    <tr>\n",
       "      <th>5</th>\n",
       "      <td>Saving crickets</td>\n",
       "      <td>https://www.wikihow.com/Keep-Crickets-Alive</td>\n",
       "    </tr>\n",
       "    <tr>\n",
       "      <th>6</th>\n",
       "      <td>Organic fertilizers</td>\n",
       "      <td>http://www.sunset.com/garden/garden-basics/cra...</td>\n",
       "    </tr>\n",
       "    <tr>\n",
       "      <th>7</th>\n",
       "      <td>Whats a choir</td>\n",
       "      <td>https://simple.wikipedia.org/wiki/Choir_(music)</td>\n",
       "    </tr>\n",
       "    <tr>\n",
       "      <th>8</th>\n",
       "      <td>Make money from music</td>\n",
       "      <td>http://hiphopmakers.com/how-to-sell-beats-onli...</td>\n",
       "    </tr>\n",
       "    <tr>\n",
       "      <th>9</th>\n",
       "      <td>Chlorine for pool</td>\n",
       "      <td>https://www.inyopools.com/blog/what-type-of-po...</td>\n",
       "    </tr>\n",
       "    <tr>\n",
       "      <th>10</th>\n",
       "      <td>Patio decoration</td>\n",
       "      <td>https://www.landscapingnetwork.com/patios/conc...</td>\n",
       "    </tr>\n",
       "    <tr>\n",
       "      <th>11</th>\n",
       "      <td>Lawn soak maintenance</td>\n",
       "      <td>How Long to Water Your Landscape With a Soaker...</td>\n",
       "    </tr>\n",
       "    <tr>\n",
       "      <th>12</th>\n",
       "      <td>Gardening tips</td>\n",
       "      <td>http://www.gardeningknowhow.com/edible/vegetab...</td>\n",
       "    </tr>\n",
       "    <tr>\n",
       "      <th>13</th>\n",
       "      <td>Replace sliding door</td>\n",
       "      <td>http://www.swisco.com/guides/view35</td>\n",
       "    </tr>\n",
       "    <tr>\n",
       "      <th>14</th>\n",
       "      <td>Window insulation</td>\n",
       "      <td>http://home.howstuffworks.com/home-improvement...</td>\n",
       "    </tr>\n",
       "    <tr>\n",
       "      <th>15</th>\n",
       "      <td>Yerba tea benefits</td>\n",
       "      <td>http://www.fitday.com/fitness-articles/nutriti...</td>\n",
       "    </tr>\n",
       "    <tr>\n",
       "      <th>16</th>\n",
       "      <td>How to grow onions</td>\n",
       "      <td>http://strongertogether.coop/fresh-from-the-so...</td>\n",
       "    </tr>\n",
       "    <tr>\n",
       "      <th>17</th>\n",
       "      <td>Keto breakfast</td>\n",
       "      <td>https://www.ruled.me/keto-bacon-and-eggs/</td>\n",
       "    </tr>\n",
       "    <tr>\n",
       "      <th>18</th>\n",
       "      <td>Get started with running</td>\n",
       "      <td>https://www.verywell.com/tips-for-running-in-t...</td>\n",
       "    </tr>\n",
       "    <tr>\n",
       "      <th>19</th>\n",
       "      <td>Making tasty brussels</td>\n",
       "      <td>https://www.healyounaturally.com/6-benefits-br...</td>\n",
       "    </tr>\n",
       "    <tr>\n",
       "      <th>20</th>\n",
       "      <td>Modern living room</td>\n",
       "      <td>http://www.wikihow.com/Decorate-a-Living-Room</td>\n",
       "    </tr>\n",
       "    <tr>\n",
       "      <th>21</th>\n",
       "      <td>Wall prep tips for painting</td>\n",
       "      <td>http://homeguides.sfgate.com/prepare-walls-pai...</td>\n",
       "    </tr>\n",
       "    <tr>\n",
       "      <th>22</th>\n",
       "      <td>Best way to produce charcoal</td>\n",
       "      <td>http://www.wikihow.com/Make-Charcoal</td>\n",
       "    </tr>\n",
       "    <tr>\n",
       "      <th>23</th>\n",
       "      <td>How to water plants in non-draining pots</td>\n",
       "      <td>http://homeguides.sfgate.com/plant-pot-holes-4...</td>\n",
       "    </tr>\n",
       "    <tr>\n",
       "      <th>24</th>\n",
       "      <td>Are tulips and daffodils cold hardy</td>\n",
       "      <td>http://www.ehow.com/info_8362341_tulips-daffod...</td>\n",
       "    </tr>\n",
       "    <tr>\n",
       "      <th>25</th>\n",
       "      <td>How to tell if a potato is rotten</td>\n",
       "      <td>https://www.leaf.tv/articles/how-to-know-when-...</td>\n",
       "    </tr>\n",
       "    <tr>\n",
       "      <th>26</th>\n",
       "      <td>put out a charcoal fire</td>\n",
       "      <td>http://homeguides.sfgate.com/extinguish-charco...</td>\n",
       "    </tr>\n",
       "    <tr>\n",
       "      <th>27</th>\n",
       "      <td>Best time to harvest garlic</td>\n",
       "      <td>https://www.thespruce.com/harvesting-garlic-14...</td>\n",
       "    </tr>\n",
       "    <tr>\n",
       "      <th>28</th>\n",
       "      <td>How to set up for a painting job</td>\n",
       "      <td>https://www.thespruce.com/essential-painting-s...</td>\n",
       "    </tr>\n",
       "    <tr>\n",
       "      <th>29</th>\n",
       "      <td>Where to buy pontoon boat kits</td>\n",
       "      <td>http://u-fabboats.com/</td>\n",
       "    </tr>\n",
       "    <tr>\n",
       "      <th>30</th>\n",
       "      <td>Best way to grow English Ivy</td>\n",
       "      <td>http://www.guide-to-houseplants.com/english-iv...</td>\n",
       "    </tr>\n",
       "    <tr>\n",
       "      <th>31</th>\n",
       "      <td>Paint kitchen cabinet</td>\n",
       "      <td>http://thebestcabinetsite.com/paints/the-best-...</td>\n",
       "    </tr>\n",
       "    <tr>\n",
       "      <th>32</th>\n",
       "      <td>How to safely paint wooden cookware</td>\n",
       "      <td>https://snapguide.com/guides/paint-the-handles...</td>\n",
       "    </tr>\n",
       "    <tr>\n",
       "      <th>33</th>\n",
       "      <td>Italian sausage</td>\n",
       "      <td>http://allrecipes.com/recipe/16539/italian-sty...</td>\n",
       "    </tr>\n",
       "    <tr>\n",
       "      <th>34</th>\n",
       "      <td>Intermittent fasting</td>\n",
       "      <td>https://en.wikipedia.org/wiki/Intermittent_fas...</td>\n",
       "    </tr>\n",
       "    <tr>\n",
       "      <th>35</th>\n",
       "      <td>Best budget for interlocking paver installation</td>\n",
       "      <td>http://homewyse.com/services/cost_to_install_i...</td>\n",
       "    </tr>\n",
       "    <tr>\n",
       "      <th>36</th>\n",
       "      <td>Steps to start a career in health psychology</td>\n",
       "      <td>http://careersinpsychology.org/becoming-a-heal...</td>\n",
       "    </tr>\n",
       "    <tr>\n",
       "      <th>37</th>\n",
       "      <td>Best tea</td>\n",
       "      <td>http://www.bestproducts.com/eats/drinks/g208/b...</td>\n",
       "    </tr>\n",
       "    <tr>\n",
       "      <th>38</th>\n",
       "      <td>Soil healthy</td>\n",
       "      <td>https://www.thespruce.com/healthy-soil-and-how...</td>\n",
       "    </tr>\n",
       "  </tbody>\n",
       "</table>\n",
       "</div>"
      ],
      "text/plain": [
       "                                       search_query  \\\n",
       "0                   Best mosquito repellent outdoor   \n",
       "1             How to get rid of heat stains on wood   \n",
       "2                                  Zucchini recipes   \n",
       "3                                    Planting grass   \n",
       "4                                Hamstring remedies   \n",
       "5                                   Saving crickets   \n",
       "6                               Organic fertilizers   \n",
       "7                                     Whats a choir   \n",
       "8                             Make money from music   \n",
       "9                                 Chlorine for pool   \n",
       "10                                 Patio decoration   \n",
       "11                            Lawn soak maintenance   \n",
       "12                                   Gardening tips   \n",
       "13                             Replace sliding door   \n",
       "14                                Window insulation   \n",
       "15                               Yerba tea benefits   \n",
       "16                               How to grow onions   \n",
       "17                                   Keto breakfast   \n",
       "18                         Get started with running   \n",
       "19                            Making tasty brussels   \n",
       "20                               Modern living room   \n",
       "21                      Wall prep tips for painting   \n",
       "22                     Best way to produce charcoal   \n",
       "23         How to water plants in non-draining pots   \n",
       "24              Are tulips and daffodils cold hardy   \n",
       "25                How to tell if a potato is rotten   \n",
       "26                          put out a charcoal fire   \n",
       "27                      Best time to harvest garlic   \n",
       "28                 How to set up for a painting job   \n",
       "29                   Where to buy pontoon boat kits   \n",
       "30                     Best way to grow English Ivy   \n",
       "31                            Paint kitchen cabinet   \n",
       "32              How to safely paint wooden cookware   \n",
       "33                                  Italian sausage   \n",
       "34                             Intermittent fasting   \n",
       "35  Best budget for interlocking paver installation   \n",
       "36     Steps to start a career in health psychology   \n",
       "37                                         Best tea   \n",
       "38                                     Soil healthy   \n",
       "\n",
       "                                                  url  \n",
       "0   http://www.wikihow.com/Get-Rid-of-Mosquitoes-i...  \n",
       "1   http://tipnut.com/diy-how-to-remove-white-heat...  \n",
       "2             http://startcooking.com/how-to-zucchini  \n",
       "3            http://www.wikihow.com/Grow-Pampas-Grass  \n",
       "4   http://www.runnersworld.com/for-beginners-only...  \n",
       "5         https://www.wikihow.com/Keep-Crickets-Alive  \n",
       "6   http://www.sunset.com/garden/garden-basics/cra...  \n",
       "7     https://simple.wikipedia.org/wiki/Choir_(music)  \n",
       "8   http://hiphopmakers.com/how-to-sell-beats-onli...  \n",
       "9   https://www.inyopools.com/blog/what-type-of-po...  \n",
       "10  https://www.landscapingnetwork.com/patios/conc...  \n",
       "11  How Long to Water Your Landscape With a Soaker...  \n",
       "12  http://www.gardeningknowhow.com/edible/vegetab...  \n",
       "13                http://www.swisco.com/guides/view35  \n",
       "14  http://home.howstuffworks.com/home-improvement...  \n",
       "15  http://www.fitday.com/fitness-articles/nutriti...  \n",
       "16  http://strongertogether.coop/fresh-from-the-so...  \n",
       "17          https://www.ruled.me/keto-bacon-and-eggs/  \n",
       "18  https://www.verywell.com/tips-for-running-in-t...  \n",
       "19  https://www.healyounaturally.com/6-benefits-br...  \n",
       "20      http://www.wikihow.com/Decorate-a-Living-Room  \n",
       "21  http://homeguides.sfgate.com/prepare-walls-pai...  \n",
       "22               http://www.wikihow.com/Make-Charcoal  \n",
       "23  http://homeguides.sfgate.com/plant-pot-holes-4...  \n",
       "24  http://www.ehow.com/info_8362341_tulips-daffod...  \n",
       "25  https://www.leaf.tv/articles/how-to-know-when-...  \n",
       "26  http://homeguides.sfgate.com/extinguish-charco...  \n",
       "27  https://www.thespruce.com/harvesting-garlic-14...  \n",
       "28  https://www.thespruce.com/essential-painting-s...  \n",
       "29                             http://u-fabboats.com/  \n",
       "30  http://www.guide-to-houseplants.com/english-iv...  \n",
       "31  http://thebestcabinetsite.com/paints/the-best-...  \n",
       "32  https://snapguide.com/guides/paint-the-handles...  \n",
       "33  http://allrecipes.com/recipe/16539/italian-sty...  \n",
       "34  https://en.wikipedia.org/wiki/Intermittent_fas...  \n",
       "35  http://homewyse.com/services/cost_to_install_i...  \n",
       "36  http://careersinpsychology.org/becoming-a-heal...  \n",
       "37  http://www.bestproducts.com/eats/drinks/g208/b...  \n",
       "38  https://www.thespruce.com/healthy-soil-and-how...  "
      ]
     },
     "execution_count": 5,
     "metadata": {},
     "output_type": "execute_result"
    }
   ],
   "source": [
    "golden_queries_df, profile_df = get_profile_filenames(persona_name)\n",
    "golden_queries_df"
   ]
  },
  {
   "cell_type": "code",
   "execution_count": 6,
   "id": "2287ff3a-9105-4738-9df6-6741c2af0182",
   "metadata": {},
   "outputs": [
    {
     "data": {
      "text/html": [
       "<div>\n",
       "<style scoped>\n",
       "    .dataframe tbody tr th:only-of-type {\n",
       "        vertical-align: middle;\n",
       "    }\n",
       "\n",
       "    .dataframe tbody tr th {\n",
       "        vertical-align: top;\n",
       "    }\n",
       "\n",
       "    .dataframe thead th {\n",
       "        text-align: right;\n",
       "    }\n",
       "</style>\n",
       "<table border=\"1\" class=\"dataframe\">\n",
       "  <thead>\n",
       "    <tr style=\"text-align: right;\">\n",
       "      <th></th>\n",
       "      <th>Unnamed: 0</th>\n",
       "      <th>url</th>\n",
       "      <th>title</th>\n",
       "      <th>description</th>\n",
       "      <th>frecency</th>\n",
       "      <th>url_hash</th>\n",
       "      <th>last_visit_date</th>\n",
       "    </tr>\n",
       "  </thead>\n",
       "  <tbody>\n",
       "    <tr>\n",
       "      <th>0</th>\n",
       "      <td>0</td>\n",
       "      <td>http://www.ehow.com/how_5409995_cook-fennel.html</td>\n",
       "      <td>How to Cook Fennel</td>\n",
       "      <td>A decidedly odd-looking vegetable, fennel rese...</td>\n",
       "      <td>5000</td>\n",
       "      <td>41483952323940</td>\n",
       "      <td>1738272723614003</td>\n",
       "    </tr>\n",
       "    <tr>\n",
       "      <th>1</th>\n",
       "      <td>1</td>\n",
       "      <td>http://www.phschool.com/language_arts/</td>\n",
       "      <td>Language Arts</td>\n",
       "      <td>Language Arts Student Resources Textbook Compa...</td>\n",
       "      <td>5000</td>\n",
       "      <td>38606764313101</td>\n",
       "      <td>1738272733950727</td>\n",
       "    </tr>\n",
       "    <tr>\n",
       "      <th>2</th>\n",
       "      <td>2</td>\n",
       "      <td>https://www.8notes.com/biographies/adams.asp</td>\n",
       "      <td>Items to buy by Bryan Adams</td>\n",
       "      <td>Items to buy by Bryan Adams (Everything I Do) ...</td>\n",
       "      <td>4999</td>\n",
       "      <td>30122553772281</td>\n",
       "      <td>1738272724722098</td>\n",
       "    </tr>\n",
       "    <tr>\n",
       "      <th>3</th>\n",
       "      <td>3</td>\n",
       "      <td>http://www.wikihow.com/Get-Rid-of-Mosquitoes-i...</td>\n",
       "      <td>How to Get Rid of Mosquitoes in Your Yard</td>\n",
       "      <td>1 Drain any areas with standing water. Mosquit...</td>\n",
       "      <td>4998</td>\n",
       "      <td>54238596538326</td>\n",
       "      <td>1738272735386823</td>\n",
       "    </tr>\n",
       "    <tr>\n",
       "      <th>4</th>\n",
       "      <td>4</td>\n",
       "      <td>http://www.goddessgift.com/goddess-myths/godde...</td>\n",
       "      <td>Goddess Symbols: Hestia</td>\n",
       "      <td>Goddess Symbols: Hestia Goddess Symbols and Sa...</td>\n",
       "      <td>4997</td>\n",
       "      <td>79098488697285</td>\n",
       "      <td>1738272735282816</td>\n",
       "    </tr>\n",
       "    <tr>\n",
       "      <th>...</th>\n",
       "      <td>...</td>\n",
       "      <td>...</td>\n",
       "      <td>...</td>\n",
       "      <td>...</td>\n",
       "      <td>...</td>\n",
       "      <td>...</td>\n",
       "      <td>...</td>\n",
       "    </tr>\n",
       "    <tr>\n",
       "      <th>6247</th>\n",
       "      <td>6247</td>\n",
       "      <td>http://www.cnn.com/2008/TRAVEL/traveltips/06/2...</td>\n",
       "      <td>How to get airport lounge discounts</td>\n",
       "      <td>By Andrea Bennett (Travel + Leisure) -- The fo...</td>\n",
       "      <td>107</td>\n",
       "      <td>69832714863365</td>\n",
       "      <td>1738272729266412</td>\n",
       "    </tr>\n",
       "    <tr>\n",
       "      <th>6248</th>\n",
       "      <td>6248</td>\n",
       "      <td>https://www.diabetesselfmanagement.com/managin...</td>\n",
       "      <td>What Makes Blood Glucose Go Up or Down?</td>\n",
       "      <td>What Makes Blood Glucose Go Up or Down? Update...</td>\n",
       "      <td>106</td>\n",
       "      <td>31807037351241</td>\n",
       "      <td>1738272724750099</td>\n",
       "    </tr>\n",
       "    <tr>\n",
       "      <th>6249</th>\n",
       "      <td>6249</td>\n",
       "      <td>https://fit4less.ca/facts</td>\n",
       "      <td>Fit4Less Facts</td>\n",
       "      <td>Fit4Less Facts Membership Card You must have y...</td>\n",
       "      <td>105</td>\n",
       "      <td>25780086107407</td>\n",
       "      <td>1738272735062801</td>\n",
       "    </tr>\n",
       "    <tr>\n",
       "      <th>6250</th>\n",
       "      <td>6250</td>\n",
       "      <td>https://blog.onestoppoppyshoppe.com/articles/p...</td>\n",
       "      <td>One Stop Poppy Shoppe Blog</td>\n",
       "      <td>Poppy Flower Seeds – Germinating and Growing P...</td>\n",
       "      <td>103</td>\n",
       "      <td>39631050424751</td>\n",
       "      <td>1738272734902791</td>\n",
       "    </tr>\n",
       "    <tr>\n",
       "      <th>6251</th>\n",
       "      <td>6251</td>\n",
       "      <td>https://www.askmen.com/top_10/entertainment/to...</td>\n",
       "      <td>Top 10: Celebrity Roasts</td>\n",
       "      <td>Top 10: Celebrity Roasts Geoffrey Lansdell Sha...</td>\n",
       "      <td>100</td>\n",
       "      <td>22043045023199</td>\n",
       "      <td>1738272723780018</td>\n",
       "    </tr>\n",
       "  </tbody>\n",
       "</table>\n",
       "<p>6252 rows × 7 columns</p>\n",
       "</div>"
      ],
      "text/plain": [
       "      Unnamed: 0                                                url  \\\n",
       "0              0   http://www.ehow.com/how_5409995_cook-fennel.html   \n",
       "1              1             http://www.phschool.com/language_arts/   \n",
       "2              2       https://www.8notes.com/biographies/adams.asp   \n",
       "3              3  http://www.wikihow.com/Get-Rid-of-Mosquitoes-i...   \n",
       "4              4  http://www.goddessgift.com/goddess-myths/godde...   \n",
       "...          ...                                                ...   \n",
       "6247        6247  http://www.cnn.com/2008/TRAVEL/traveltips/06/2...   \n",
       "6248        6248  https://www.diabetesselfmanagement.com/managin...   \n",
       "6249        6249                          https://fit4less.ca/facts   \n",
       "6250        6250  https://blog.onestoppoppyshoppe.com/articles/p...   \n",
       "6251        6251  https://www.askmen.com/top_10/entertainment/to...   \n",
       "\n",
       "                                          title  \\\n",
       "0                            How to Cook Fennel   \n",
       "1                                 Language Arts   \n",
       "2                   Items to buy by Bryan Adams   \n",
       "3     How to Get Rid of Mosquitoes in Your Yard   \n",
       "4                       Goddess Symbols: Hestia   \n",
       "...                                         ...   \n",
       "6247        How to get airport lounge discounts   \n",
       "6248    What Makes Blood Glucose Go Up or Down?   \n",
       "6249                             Fit4Less Facts   \n",
       "6250                 One Stop Poppy Shoppe Blog   \n",
       "6251                   Top 10: Celebrity Roasts   \n",
       "\n",
       "                                            description  frecency  \\\n",
       "0     A decidedly odd-looking vegetable, fennel rese...      5000   \n",
       "1     Language Arts Student Resources Textbook Compa...      5000   \n",
       "2     Items to buy by Bryan Adams (Everything I Do) ...      4999   \n",
       "3     1 Drain any areas with standing water. Mosquit...      4998   \n",
       "4     Goddess Symbols: Hestia Goddess Symbols and Sa...      4997   \n",
       "...                                                 ...       ...   \n",
       "6247  By Andrea Bennett (Travel + Leisure) -- The fo...       107   \n",
       "6248  What Makes Blood Glucose Go Up or Down? Update...       106   \n",
       "6249  Fit4Less Facts Membership Card You must have y...       105   \n",
       "6250  Poppy Flower Seeds – Germinating and Growing P...       103   \n",
       "6251  Top 10: Celebrity Roasts Geoffrey Lansdell Sha...       100   \n",
       "\n",
       "            url_hash   last_visit_date  \n",
       "0     41483952323940  1738272723614003  \n",
       "1     38606764313101  1738272733950727  \n",
       "2     30122553772281  1738272724722098  \n",
       "3     54238596538326  1738272735386823  \n",
       "4     79098488697285  1738272735282816  \n",
       "...              ...               ...  \n",
       "6247  69832714863365  1738272729266412  \n",
       "6248  31807037351241  1738272724750099  \n",
       "6249  25780086107407  1738272735062801  \n",
       "6250  39631050424751  1738272734902791  \n",
       "6251  22043045023199  1738272723780018  \n",
       "\n",
       "[6252 rows x 7 columns]"
      ]
     },
     "execution_count": 6,
     "metadata": {},
     "output_type": "execute_result"
    }
   ],
   "source": [
    "profile_df"
   ]
  },
  {
   "cell_type": "code",
   "execution_count": null,
   "id": "09c9120e-a9e6-4e8e-9dda-63d4f6452ab0",
   "metadata": {},
   "outputs": [],
   "source": []
  },
  {
   "cell_type": "code",
   "execution_count": 7,
   "id": "1d182fec-436c-40c4-897e-7b0f47b8fab6",
   "metadata": {},
   "outputs": [
    {
     "name": "stdout",
     "output_type": "stream",
     "text": [
      "CPU times: user 232 ms, sys: 32.6 ms, total: 265 ms\n",
      "Wall time: 95.1 ms\n"
     ]
    }
   ],
   "source": [
    "%%time\n",
    "profile_embeddings = model.encode(profile_df['title'].str.lower().values.tolist())"
   ]
  },
  {
   "cell_type": "code",
   "execution_count": 8,
   "id": "89aa734b-4ae2-4649-b1e2-7978c279cfbc",
   "metadata": {},
   "outputs": [],
   "source": [
    "\n",
    "\n",
    "def search(query, model, profile_embeddings, profile_df, top_k=2, threshold=0.6):\n",
    "    query_embeddings = model.encode([query])\n",
    "    sim_scores = cosine_similarity(query_embeddings, profile_embeddings)[0]  # shape: (N,)\n",
    "\n",
    "    valid_idx = np.where(sim_scores >= threshold)[0]\n",
    "    if valid_idx.size == 0:\n",
    "        return []\n",
    "\n",
    "    ranked_idx = valid_idx[np.argsort(-sim_scores[valid_idx])[:top_k]]\n",
    "    return profile_df.iloc[ranked_idx]['url'].tolist()\n"
   ]
  },
  {
   "cell_type": "code",
   "execution_count": 9,
   "id": "64de953a-9f58-41c3-b767-a6a95f39df46",
   "metadata": {},
   "outputs": [],
   "source": [
    "# search(\"Best mosquito repellent outdoor\", model, profile_embeddings, profile_df, top_k=5)\n",
    "# search(\"Zucchini recipes\", model, profile_embeddings, profile_df, top_k=2)"
   ]
  },
  {
   "cell_type": "code",
   "execution_count": 10,
   "id": "b5e82f57-382a-48ab-8cb1-2f61003a9426",
   "metadata": {},
   "outputs": [],
   "source": [
    "correct = 0\n",
    "for idx, row in golden_queries_df.iterrows():\n",
    "    actual = row['url']\n",
    "    preds = search(row['search_query'].lower(), model, profile_embeddings, profile_df, top_k=3, threshold=0.5)\n",
    "    if actual in preds:\n",
    "        correct += 1\n",
    "        \n",
    "    # else:\n",
    "    #     print(idx, row['search_query'], actual, preds)\n",
    "        \n"
   ]
  },
  {
   "cell_type": "code",
   "execution_count": 11,
   "id": "569ae857-a4f2-4191-ab0a-cfb75a4ed2c1",
   "metadata": {},
   "outputs": [
    {
     "data": {
      "text/plain": [
       "30"
      ]
     },
     "execution_count": 11,
     "metadata": {},
     "output_type": "execute_result"
    }
   ],
   "source": [
    "correct"
   ]
  },
  {
   "cell_type": "code",
   "execution_count": 12,
   "id": "8e29052b-4bae-49ee-860a-6a0ee262cc60",
   "metadata": {},
   "outputs": [
    {
     "data": {
      "text/plain": [
       "0.7692307692307693"
      ]
     },
     "execution_count": 12,
     "metadata": {},
     "output_type": "execute_result"
    }
   ],
   "source": [
    "correct/len(golden_queries_df)"
   ]
  },
  {
   "cell_type": "code",
   "execution_count": 13,
   "id": "cc0108f8-2d6d-40e5-be70-2c541b472a7c",
   "metadata": {},
   "outputs": [],
   "source": [
    "## Results for creative_hobyist (38 queries)\n",
    "## allXenova/all-MiniLM-L6-v2: 33 correct (0.84)\n",
    "## minishlab/potion-retrieval-32M: 30 correct (0.78)"
   ]
  },
  {
   "cell_type": "code",
   "execution_count": 14,
   "id": "f34c6e3a-2cfe-4868-bf70-8d258297f157",
   "metadata": {},
   "outputs": [],
   "source": [
    "## Results for chidam (48 queries)\n",
    "## allXenova/all-MiniLM-L6-v2: 17 correct (0.35)\n",
    "## minishlab/potion-retrieval-32M: 20 correct (0.40)"
   ]
  },
  {
   "cell_type": "markdown",
   "id": "72c9be13-bc46-4b26-b2b9-c519ef757065",
   "metadata": {},
   "source": [
    "#### Using long & short Q datasets and profiles"
   ]
  },
  {
   "cell_type": "code",
   "execution_count": 15,
   "id": "a39cc68b-e757-4d55-b7a1-33ce6b212f46",
   "metadata": {},
   "outputs": [],
   "source": [
    "longQ = [\n",
    "      \"alternative medicine to manage ringing in my ear\",\n",
    "      \"solutions for noisy neighbors\",\n",
    "      \"how to train a cat to use the litter box\",\n",
    "      \"how to make your dog loss weight\",\n",
    "      \"what are the best foods for dogs\",\n",
    "      \"how to keep your kids safe online\",\n",
    "      \"some recommendations for vegan recipes for kids\",\n",
    "      \"best places to visit in new york in summer\",\n",
    "      \"how much does it cost to go to niagara falls\",\n",
    "      \"how to take screenshot on windows 11\",\n",
    "      \"what are some of the symptoms of high blood pressure\",\n",
    "      \"what are some treatment options for stroke\",\n",
    "      \"organic dog food for sensitive stomachs\",\n",
    "      \"best budget-friendly family vacation spots in California\",\n",
    "      \"what are some popular open source projects\",\n",
    "    ]\n",
    "\n",
    "shortQ = [\n",
    "      \"healthy rice\",\n",
    "      \"endodontist\",\n",
    "      \"arsenal\",\n",
    "      \"gavaskar border trophy\",\n",
    "      \"grand slam champion\",\n",
    "      \"capital gain\",\n",
    "      \"credit limit\",\n",
    "      \"annuity\",\n",
    "      \"physiology\",\n",
    "      \"myopia\",\n",
    "      \"amyloidosis\",\n",
    "      \"alopecia\",\n",
    "      \"dermatitis\",\n",
    "      \"coffee shop\",\n",
    "      \"ball drop\",\n",
    "    ]"
   ]
  },
  {
   "cell_type": "code",
   "execution_count": 16,
   "id": "2832f4c0-de5c-40ee-9d50-af3c31f00c0d",
   "metadata": {},
   "outputs": [
    {
     "data": {
      "text/plain": [
       "(15, 15)"
      ]
     },
     "execution_count": 16,
     "metadata": {},
     "output_type": "execute_result"
    }
   ],
   "source": [
    "len(longQ), len(shortQ)"
   ]
  },
  {
   "cell_type": "code",
   "execution_count": 17,
   "id": "4f88a639-1f69-41b8-8fe1-1b33d6c7c623",
   "metadata": {},
   "outputs": [],
   "source": [
    "lonQ_longD_file_path = \"../data/profiles/test/profile_longQ_longD_df.json\"\n",
    "lonQ_shortD_file_path = \"../data/profiles/test/profile_longQ_shortD_df.json\"\n",
    "\n",
    "shortQ_longD_file_path = \"../data/profiles/test/profile_shortQ_longD_df.json\"\n",
    "shortQ_shortD_file_path = \"../data/profiles/test/profile_shortQ_shortD_df.json\""
   ]
  },
  {
   "cell_type": "code",
   "execution_count": 18,
   "id": "b5a2c208-18a4-4de9-8286-b1c3d2493193",
   "metadata": {},
   "outputs": [
    {
     "data": {
      "text/plain": [
       "((8743, 5), (7411, 5), (8717, 5), (7444, 5))"
      ]
     },
     "execution_count": 18,
     "metadata": {},
     "output_type": "execute_result"
    }
   ],
   "source": [
    "lonQ_longD_df = pd.read_json(lonQ_longD_file_path)[PROFILE_COLS]\n",
    "lonQ_shortD_df = pd.read_json(lonQ_shortD_file_path)[PROFILE_COLS]\n",
    "\n",
    "shortQ_longD_df = pd.read_json(shortQ_longD_file_path)[PROFILE_COLS]\n",
    "shortQ_shortD_df = pd.read_json(shortQ_shortD_file_path)[PROFILE_COLS]\n",
    "\n",
    "\n",
    "lonQ_longD_df.shape, lonQ_shortD_df.shape, shortQ_longD_df.shape, shortQ_shortD_df.shape"
   ]
  },
  {
   "cell_type": "code",
   "execution_count": 19,
   "id": "b4fe79ef-268b-4566-963c-83604e3ff102",
   "metadata": {},
   "outputs": [],
   "source": [
    "def search_long_short_queries(query, model, profile_embeddings, profile_df, top_k=2, threshold=0.6):\n",
    "    query_embeddings = model.encode([query])\n",
    "    sim_scores = cosine_similarity(query_embeddings, profile_embeddings)[0]\n",
    "\n",
    "    valid_idx = np.where(sim_scores >= threshold)[0]\n",
    "    if valid_idx.size == 0:\n",
    "        return []\n",
    "    for idx in valid_idx:\n",
    "        if idx <= 30:\n",
    "            return True\n",
    "    return False\n",
    "    # ranked_idx = valid_idx[np.argsort(-sim_scores[valid_idx])[:top_k]]\n",
    "    # return profile_df.iloc[ranked_idx]['url'].tolist()\n"
   ]
  },
  {
   "cell_type": "code",
   "execution_count": 20,
   "id": "5e0d9625-5747-412f-99b2-159d69faef8e",
   "metadata": {},
   "outputs": [
    {
     "name": "stdout",
     "output_type": "stream",
     "text": [
      "(8743, 512)\n",
      "correct_longQ_longD 10\n",
      "correct percentage 0.667\n"
     ]
    }
   ],
   "source": [
    "lonQ_longD_profile_embeddings = model.encode(lonQ_longD_df['title'].str.lower() + \" \" + lonQ_longD_df['description'].str.lower())\n",
    "print(lonQ_longD_profile_embeddings.shape)\n",
    "correct_longQ_longD = 0\n",
    "for query in longQ:\n",
    "    res = search_long_short_queries(query, model, lonQ_longD_profile_embeddings, lonQ_longD_df, top_k=2, threshold=0.6)\n",
    "    if res:\n",
    "        correct_longQ_longD += 1\n",
    "\n",
    "print(\"correct_longQ_longD\", correct_longQ_longD)\n",
    "print(\"correct percentage\", round(correct_longQ_longD/len(longQ), 3))"
   ]
  },
  {
   "cell_type": "code",
   "execution_count": 21,
   "id": "3b4d7f43-31c7-40b6-be01-d770291385a8",
   "metadata": {},
   "outputs": [
    {
     "name": "stdout",
     "output_type": "stream",
     "text": [
      "(7411, 512)\n",
      "correct_longQ_shortD 14\n",
      "correct percentage 0.933\n"
     ]
    }
   ],
   "source": [
    "lonQ_shortD_profile_embeddings = model.encode(lonQ_shortD_df['title'].str.lower() + \" \" + lonQ_shortD_df['description'].str.lower())\n",
    "print(lonQ_shortD_profile_embeddings.shape)\n",
    "correct_longQ_shortD = 0\n",
    "for query in longQ:\n",
    "    res = search_long_short_queries(query, model, lonQ_shortD_profile_embeddings, lonQ_shortD_df, top_k=2, threshold=0.6)\n",
    "    if res:\n",
    "        correct_longQ_shortD += 1\n",
    "\n",
    "print(\"correct_longQ_shortD\", correct_longQ_shortD)\n",
    "print(\"correct percentage\", round(correct_longQ_shortD/len(longQ), 3))"
   ]
  },
  {
   "cell_type": "code",
   "execution_count": 22,
   "id": "be1dfa41-3cac-423d-b3e2-8fbc88591a3e",
   "metadata": {},
   "outputs": [
    {
     "name": "stdout",
     "output_type": "stream",
     "text": [
      "(8717, 512)\n",
      "correct_shortQ_longD 10\n",
      "correct percentage 0.667\n"
     ]
    }
   ],
   "source": [
    "shortQ_longD_profile_embeddings = model.encode(shortQ_longD_df['title'].str.lower() + \" \" + shortQ_longD_df['description'].str.lower())\n",
    "print(shortQ_longD_profile_embeddings.shape)\n",
    "correct_shortQ_longD = 0\n",
    "for query in shortQ:\n",
    "    res = search_long_short_queries(query, model, shortQ_longD_profile_embeddings, shortQ_longD_df, top_k=2, threshold=0.6)\n",
    "    if res:\n",
    "        correct_shortQ_longD += 1\n",
    "\n",
    "print(\"correct_shortQ_longD\", correct_shortQ_longD)\n",
    "print(\"correct percentage\", round(correct_shortQ_longD/len(shortQ), 3))"
   ]
  },
  {
   "cell_type": "code",
   "execution_count": 23,
   "id": "430c187f-cd1d-4f4d-87c3-a0de2cdbdaec",
   "metadata": {},
   "outputs": [
    {
     "name": "stdout",
     "output_type": "stream",
     "text": [
      "(7444, 512)\n",
      "correct_shortQ_longD 14\n",
      "correct percentage 0.933\n"
     ]
    }
   ],
   "source": [
    "shortQ_shortD_profile_embeddings = model.encode(shortQ_shortD_df['title'].str.lower() + \" \" + shortQ_shortD_df['description'].str.lower())\n",
    "print(shortQ_shortD_profile_embeddings.shape)\n",
    "correct_shortQ_shortD = 0\n",
    "for query in shortQ:\n",
    "    res = search_long_short_queries(query, model, shortQ_shortD_profile_embeddings, shortQ_shortD_df, top_k=2, threshold=0.6)\n",
    "    if res:\n",
    "        correct_shortQ_shortD += 1\n",
    "\n",
    "print(\"correct_shortQ_longD\", correct_shortQ_shortD)\n",
    "print(\"correct percentage\", round(correct_shortQ_shortD/len(shortQ), 3))"
   ]
  },
  {
   "cell_type": "code",
   "execution_count": null,
   "id": "65025dfd-0e59-4011-a2bc-fbe01da01eef",
   "metadata": {},
   "outputs": [],
   "source": []
  },
  {
   "cell_type": "code",
   "execution_count": 24,
   "id": "9c2f0ec2-6bc1-4c44-b814-291f4c60c8f5",
   "metadata": {},
   "outputs": [],
   "source": [
    "## store these in sqlite-vec DB"
   ]
  },
  {
   "cell_type": "code",
   "execution_count": 25,
   "id": "53c52061-6036-4b1b-8f68-dd439ae6e1b3",
   "metadata": {},
   "outputs": [],
   "source": [
    "import numpy as np\n",
    "import sqlite3\n",
    "import sqlite_vec\n",
    "\n",
    "from typing import List\n",
    "import struct"
   ]
  },
  {
   "cell_type": "code",
   "execution_count": 26,
   "id": "ca6fdc28-d6b5-409e-b2fb-ca87a5d56bb4",
   "metadata": {},
   "outputs": [],
   "source": [
    "def serialize_f32(vector: List[float]) -> bytes:\n",
    "    \"\"\"serializes a list of floats into a compact \"raw bytes\" format\"\"\"\n",
    "    return struct.pack(\"%sf\" % len(vector), *vector)"
   ]
  },
  {
   "cell_type": "code",
   "execution_count": 27,
   "id": "5cf13620-267d-4bae-8993-308eb1e6cf92",
   "metadata": {},
   "outputs": [
    {
     "name": "stdout",
     "output_type": "stream",
     "text": [
      "sqlite_version=3.50.1, vec_version=v0.1.6\n"
     ]
    }
   ],
   "source": [
    "db = sqlite3.connect(\":memory:\")\n",
    "db.enable_load_extension(True)\n",
    "sqlite_vec.load(db)\n",
    "db.enable_load_extension(False)\n",
    "\n",
    "sqlite_version, vec_version = db.execute(\n",
    "    \"select sqlite_version(), vec_version()\"\n",
    ").fetchone()\n",
    "print(f\"sqlite_version={sqlite_version}, vec_version={vec_version}\")\n"
   ]
  },
  {
   "cell_type": "code",
   "execution_count": 28,
   "id": "bc4607c9-40c9-4337-ad8a-effd988722ad",
   "metadata": {},
   "outputs": [
    {
     "data": {
      "text/plain": [
       "(7411, 512)"
      ]
     },
     "execution_count": 28,
     "metadata": {},
     "output_type": "execute_result"
    }
   ],
   "source": [
    "lonQ_shortD_profile_embeddings.shape"
   ]
  },
  {
   "cell_type": "code",
   "execution_count": 29,
   "id": "cee0526f-82cc-4219-91b9-f5a8a9528ee0",
   "metadata": {},
   "outputs": [],
   "source": [
    "persona = \"lonQ_shortD\"\n",
    "EMBEDDING_SIZE = lonQ_shortD_profile_embeddings.shape[1]\n",
    "db.execute(f\"CREATE VIRTUAL TABLE vec_items_{persona}_2 USING vec0(embedding float[{EMBEDDING_SIZE}], embedding_coarse bit[{EMBEDDING_SIZE}])\")\n",
    "\n",
    "with db:\n",
    "    for idx, vec in enumerate(lonQ_shortD_profile_embeddings):\n",
    "        embedding = serialize_f32(vec)\n",
    "        db.execute(\n",
    "            f\"INSERT INTO vec_items_{persona}_2(rowid, embedding, embedding_coarse) VALUES (?, ?, vec_quantize_binary(?))\",\n",
    "            [idx, embedding, embedding],  # Convert vector to binary format\n",
    "        )\n"
   ]
  },
  {
   "cell_type": "code",
   "execution_count": 30,
   "id": "bab122a0-db21-469f-912d-7414237f4f7c",
   "metadata": {},
   "outputs": [
    {
     "data": {
      "text/plain": [
       "['alternative medicine to manage ringing in my ear',\n",
       " 'solutions for noisy neighbors',\n",
       " 'how to train a cat to use the litter box',\n",
       " 'how to make your dog loss weight',\n",
       " 'what are the best foods for dogs',\n",
       " 'how to keep your kids safe online',\n",
       " 'some recommendations for vegan recipes for kids',\n",
       " 'best places to visit in new york in summer',\n",
       " 'how much does it cost to go to niagara falls',\n",
       " 'how to take screenshot on windows 11',\n",
       " 'what are some of the symptoms of high blood pressure',\n",
       " 'what are some treatment options for stroke',\n",
       " 'organic dog food for sensitive stomachs',\n",
       " 'best budget-friendly family vacation spots in California',\n",
       " 'what are some popular open source projects']"
      ]
     },
     "execution_count": 30,
     "metadata": {},
     "output_type": "execute_result"
    }
   ],
   "source": [
    "longQ"
   ]
  },
  {
   "cell_type": "code",
   "execution_count": 31,
   "id": "1e24b847-f508-439d-bcfc-9569837ee960",
   "metadata": {},
   "outputs": [],
   "source": [
    "def predict_coarse(query, lonQ_shortD_df):\n",
    "    query_serialized_vec = serialize_f32(model.encode(query))\n",
    "    \n",
    "    retrived_results = db.execute(f\"\"\"\n",
    "    with coarse_matches as (\n",
    "      select\n",
    "        rowid,\n",
    "        embedding\n",
    "      from vec_items_{persona}_2\n",
    "      where embedding_coarse match vec_quantize_binary(:query_serialized_vec)\n",
    "      order by distance\n",
    "      limit 200\n",
    "    )\n",
    "    select\n",
    "      rowid,\n",
    "      vec_distance_cosine(embedding, :query_serialized_vec)\n",
    "    from coarse_matches\n",
    "    order by 2\n",
    "    limit 2;\n",
    "    \"\"\", {\"query_serialized_vec\": query_serialized_vec}).fetchall()\n",
    "    print(retrived_results)\n",
    "    return lonQ_shortD_df.iloc[[row for row,dist in retrived_results]]"
   ]
  },
  {
   "cell_type": "code",
   "execution_count": 32,
   "id": "925e3354-a8b0-4bf3-9851-ea6980da353d",
   "metadata": {},
   "outputs": [
    {
     "name": "stdout",
     "output_type": "stream",
     "text": [
      "alternative medicine to manage ringing in my ear\n",
      "[(1, 0.33442482352256775), (0, 0.33442482352256775)]\n"
     ]
    },
    {
     "data": {
      "text/html": [
       "<div>\n",
       "<style scoped>\n",
       "    .dataframe tbody tr th:only-of-type {\n",
       "        vertical-align: middle;\n",
       "    }\n",
       "\n",
       "    .dataframe tbody tr th {\n",
       "        vertical-align: top;\n",
       "    }\n",
       "\n",
       "    .dataframe thead th {\n",
       "        text-align: right;\n",
       "    }\n",
       "</style>\n",
       "<table border=\"1\" class=\"dataframe\">\n",
       "  <thead>\n",
       "    <tr style=\"text-align: right;\">\n",
       "      <th></th>\n",
       "      <th>url</th>\n",
       "      <th>title</th>\n",
       "      <th>description</th>\n",
       "      <th>frecency</th>\n",
       "      <th>last_visit_date</th>\n",
       "    </tr>\n",
       "  </thead>\n",
       "  <tbody>\n",
       "    <tr>\n",
       "      <th>1</th>\n",
       "      <td>http://www.rightdiagnosis.com/sym/ringing_in_e...</td>\n",
       "      <td>Ringing in ears</td>\n",
       "      <td></td>\n",
       "      <td>281700</td>\n",
       "      <td>1736189753947959</td>\n",
       "    </tr>\n",
       "    <tr>\n",
       "      <th>0</th>\n",
       "      <td>http://symptomchecker.webmd.com/single-symptom...</td>\n",
       "      <td>Ringing in ears</td>\n",
       "      <td></td>\n",
       "      <td>1421560</td>\n",
       "      <td>1736196807185413</td>\n",
       "    </tr>\n",
       "  </tbody>\n",
       "</table>\n",
       "</div>"
      ],
      "text/plain": [
       "                                                 url            title  \\\n",
       "1  http://www.rightdiagnosis.com/sym/ringing_in_e...  Ringing in ears   \n",
       "0  http://symptomchecker.webmd.com/single-symptom...  Ringing in ears   \n",
       "\n",
       "  description  frecency   last_visit_date  \n",
       "1                281700  1736189753947959  \n",
       "0               1421560  1736196807185413  "
      ]
     },
     "execution_count": 32,
     "metadata": {},
     "output_type": "execute_result"
    }
   ],
   "source": [
    "query = longQ[0]\n",
    "print(query)\n",
    "predict_coarse(query, lonQ_shortD_df)"
   ]
  },
  {
   "cell_type": "code",
   "execution_count": null,
   "id": "8390121a-f66d-4a93-aa21-1a9a9113c173",
   "metadata": {},
   "outputs": [],
   "source": []
  },
  {
   "cell_type": "code",
   "execution_count": null,
   "id": "759e0236-1af5-43cd-8df9-0cd75556eebb",
   "metadata": {},
   "outputs": [],
   "source": []
  }
 ],
 "metadata": {
  "kernelspec": {
   "display_name": "Python 3 (ipykernel)",
   "language": "python",
   "name": "python3"
  },
  "language_info": {
   "codemirror_mode": {
    "name": "ipython",
    "version": 3
   },
   "file_extension": ".py",
   "mimetype": "text/x-python",
   "name": "python",
   "nbconvert_exporter": "python",
   "pygments_lexer": "ipython3",
   "version": "3.11.13"
  }
 },
 "nbformat": 4,
 "nbformat_minor": 5
}
